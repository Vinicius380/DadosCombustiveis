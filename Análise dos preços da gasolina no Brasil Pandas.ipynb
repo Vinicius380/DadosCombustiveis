{
 "cells": [
  {
   "cell_type": "markdown",
   "id": "450a7a381ad90b2b",
   "metadata": {},
   "source": [
    "## Exercícios com PANDAS\n",
    "Link para Dataset: https://www.kaggle.com/datasets/matheusfreitag/gas-prices-in-brazil"
   ]
  },
  {
   "cell_type": "markdown",
   "id": "3ecf2f1e031db043",
   "metadata": {},
   "source": [
    "## Neste projeto, trabalharemos com dois arquivos csvs separados, contendo informações sobre o preço da gasolina no Brasil. "
   ]
  },
  {
   "cell_type": "markdown",
   "id": "b234fc5f",
   "metadata": {},
   "source": [
    "### 1.Carregando os dados"
   ]
  },
  {
   "cell_type": "code",
   "execution_count": null,
   "id": "b540b9fe",
   "metadata": {},
   "outputs": [],
   "source": [
    "import pandas as pd\n",
    "\n",
    "df1 = pd.read_csv('dados_gasolina2000.csv', index_col = 0)  \n",
    "# Lê o arquivo CSV 'gasolina_2000+.csv' e armazena os dados em um DataFrame chamado df1.\n",
    "# O parâmetro index_col = 0 define a primeira coluna do arquivo como o índice (index) do DataFrame.\n",
    "\n",
    "df2 = pd.read_csv('dados_gasolina_2010.csv', index_col = 0)  \n",
    "# Lê o arquivo CSV 'gasolina_2010+.csv' e armazena os dados em um DataFrame chamado df2.\n",
    "# Assim como na linha anterior, a primeira coluna do arquivo será usada como o índice do DataFrame."
   ]
  },
  {
   "cell_type": "markdown",
   "id": "09a8caee",
   "metadata": {},
   "source": [
    "### Analisando a estrutura dos dados"
   ]
  },
  {
   "cell_type": "markdown",
   "id": "abe27bc72d2a5244",
   "metadata": {},
   "source": [
    "### . Carregue os conjuntos de dados \"dados_gasolina2000.csv\" e \"dados_gasolina_2010.csv\" em dois DataFrames diferentes e combine-os em um único DataFrame.\n"
   ]
  },
  {
   "cell_type": "code",
   "execution_count": null,
   "id": "2eb05f7dd5742e9",
   "metadata": {
    "ExecuteTime": {
     "end_time": "2024-08-17T14:21:10.828194Z",
     "start_time": "2024-08-17T14:21:10.345259Z"
    }
   },
   "outputs": [
    {
     "name": "stderr",
     "output_type": "stream",
     "text": [
      "C:\\Users\\Avell G1565\\AppData\\Local\\Temp\\ipykernel_15620\\2422935058.py:5: DtypeWarning: Columns (12,14,15,16,17,18) have mixed types. Specify dtype option on import or set low_memory=False.\n",
      "  df2 = pd.read_csv('gasolina_2010+.csv', index_col = 0)\n"
     ]
    }
   ],
   "source": [
    "df = pd.concat([df1, df2])  \n",
    "# Concatena os DataFrames df1 e df2, combinando suas linhas.\n",
    "# Isso resulta em um novo DataFrame chamado df, que contém os dados de ambos os arquivos CSV.\n"
   ]
  },
  {
   "cell_type": "markdown",
   "id": "3dc393131f11c411",
   "metadata": {},
   "source": [
    "### .Investigue as colunas e entenda o conjunto de dados usando o head() e info()\n"
   ]
  },
  {
   "cell_type": "code",
   "execution_count": 4,
   "id": "a30da8421cc6c3e0",
   "metadata": {
    "ExecuteTime": {
     "end_time": "2024-08-17T14:21:10.855488Z",
     "start_time": "2024-08-17T14:21:10.829201Z"
    }
   },
   "outputs": [
    {
     "data": {
      "text/html": [
       "<div>\n",
       "<style scoped>\n",
       "    .dataframe tbody tr th:only-of-type {\n",
       "        vertical-align: middle;\n",
       "    }\n",
       "\n",
       "    .dataframe tbody tr th {\n",
       "        vertical-align: top;\n",
       "    }\n",
       "\n",
       "    .dataframe thead th {\n",
       "        text-align: right;\n",
       "    }\n",
       "</style>\n",
       "<table border=\"1\" class=\"dataframe\">\n",
       "  <thead>\n",
       "    <tr style=\"text-align: right;\">\n",
       "      <th></th>\n",
       "      <th>DATA INICIAL</th>\n",
       "      <th>DATA FINAL</th>\n",
       "      <th>REGIÃO</th>\n",
       "      <th>ESTADO</th>\n",
       "      <th>PRODUTO</th>\n",
       "      <th>NÚMERO DE POSTOS PESQUISADOS</th>\n",
       "      <th>UNIDADE DE MEDIDA</th>\n",
       "      <th>PREÇO MÉDIO REVENDA</th>\n",
       "      <th>DESVIO PADRÃO REVENDA</th>\n",
       "      <th>PREÇO MÍNIMO REVENDA</th>\n",
       "      <th>PREÇO MÁXIMO REVENDA</th>\n",
       "      <th>MARGEM MÉDIA REVENDA</th>\n",
       "      <th>COEF DE VARIAÇÃO REVENDA</th>\n",
       "      <th>PREÇO MÉDIO DISTRIBUIÇÃO</th>\n",
       "      <th>DESVIO PADRÃO DISTRIBUIÇÃO</th>\n",
       "      <th>PREÇO MÍNIMO DISTRIBUIÇÃO</th>\n",
       "      <th>PREÇO MÁXIMO DISTRIBUIÇÃO</th>\n",
       "      <th>COEF DE VARIAÇÃO DISTRIBUIÇÃO</th>\n",
       "    </tr>\n",
       "  </thead>\n",
       "  <tbody>\n",
       "    <tr>\n",
       "      <th>0</th>\n",
       "      <td>2004-05-09</td>\n",
       "      <td>2004-05-15</td>\n",
       "      <td>CENTRO OESTE</td>\n",
       "      <td>DISTRITO FEDERAL</td>\n",
       "      <td>ETANOL HIDRATADO</td>\n",
       "      <td>127</td>\n",
       "      <td>R$/l</td>\n",
       "      <td>1.288</td>\n",
       "      <td>0.016</td>\n",
       "      <td>1.19</td>\n",
       "      <td>1.350</td>\n",
       "      <td>0.463</td>\n",
       "      <td>0.012</td>\n",
       "      <td>0.825</td>\n",
       "      <td>0.11</td>\n",
       "      <td>0.4201</td>\n",
       "      <td>0.9666</td>\n",
       "      <td>0.133</td>\n",
       "    </tr>\n",
       "    <tr>\n",
       "      <th>1</th>\n",
       "      <td>2004-05-09</td>\n",
       "      <td>2004-05-15</td>\n",
       "      <td>CENTRO OESTE</td>\n",
       "      <td>GOIAS</td>\n",
       "      <td>ETANOL HIDRATADO</td>\n",
       "      <td>387</td>\n",
       "      <td>R$/l</td>\n",
       "      <td>1.162</td>\n",
       "      <td>0.114</td>\n",
       "      <td>0.89</td>\n",
       "      <td>1.449</td>\n",
       "      <td>0.399</td>\n",
       "      <td>0.098</td>\n",
       "      <td>0.763</td>\n",
       "      <td>0.088</td>\n",
       "      <td>0.5013</td>\n",
       "      <td>1.05</td>\n",
       "      <td>0.115</td>\n",
       "    </tr>\n",
       "    <tr>\n",
       "      <th>2</th>\n",
       "      <td>2004-05-09</td>\n",
       "      <td>2004-05-15</td>\n",
       "      <td>CENTRO OESTE</td>\n",
       "      <td>MATO GROSSO</td>\n",
       "      <td>ETANOL HIDRATADO</td>\n",
       "      <td>192</td>\n",
       "      <td>R$/l</td>\n",
       "      <td>1.389</td>\n",
       "      <td>0.097</td>\n",
       "      <td>1.18</td>\n",
       "      <td>1.760</td>\n",
       "      <td>0.419</td>\n",
       "      <td>0.070</td>\n",
       "      <td>0.97</td>\n",
       "      <td>0.095</td>\n",
       "      <td>0.5614</td>\n",
       "      <td>1.161</td>\n",
       "      <td>0.098</td>\n",
       "    </tr>\n",
       "    <tr>\n",
       "      <th>3</th>\n",
       "      <td>2004-05-09</td>\n",
       "      <td>2004-05-15</td>\n",
       "      <td>CENTRO OESTE</td>\n",
       "      <td>MATO GROSSO DO SUL</td>\n",
       "      <td>ETANOL HIDRATADO</td>\n",
       "      <td>162</td>\n",
       "      <td>R$/l</td>\n",
       "      <td>1.262</td>\n",
       "      <td>0.070</td>\n",
       "      <td>1.09</td>\n",
       "      <td>1.509</td>\n",
       "      <td>0.432</td>\n",
       "      <td>0.055</td>\n",
       "      <td>0.83</td>\n",
       "      <td>0.119</td>\n",
       "      <td>0.5991</td>\n",
       "      <td>1.22242</td>\n",
       "      <td>0.143</td>\n",
       "    </tr>\n",
       "    <tr>\n",
       "      <th>4</th>\n",
       "      <td>2004-05-09</td>\n",
       "      <td>2004-05-15</td>\n",
       "      <td>NORDESTE</td>\n",
       "      <td>ALAGOAS</td>\n",
       "      <td>ETANOL HIDRATADO</td>\n",
       "      <td>103</td>\n",
       "      <td>R$/l</td>\n",
       "      <td>1.181</td>\n",
       "      <td>0.078</td>\n",
       "      <td>1.05</td>\n",
       "      <td>1.400</td>\n",
       "      <td>0.24</td>\n",
       "      <td>0.066</td>\n",
       "      <td>0.941</td>\n",
       "      <td>0.077</td>\n",
       "      <td>0.7441</td>\n",
       "      <td>1.0317</td>\n",
       "      <td>0.082</td>\n",
       "    </tr>\n",
       "  </tbody>\n",
       "</table>\n",
       "</div>"
      ],
      "text/plain": [
       "  DATA INICIAL  DATA FINAL        REGIÃO              ESTADO  \\\n",
       "0   2004-05-09  2004-05-15  CENTRO OESTE    DISTRITO FEDERAL   \n",
       "1   2004-05-09  2004-05-15  CENTRO OESTE               GOIAS   \n",
       "2   2004-05-09  2004-05-15  CENTRO OESTE         MATO GROSSO   \n",
       "3   2004-05-09  2004-05-15  CENTRO OESTE  MATO GROSSO DO SUL   \n",
       "4   2004-05-09  2004-05-15      NORDESTE             ALAGOAS   \n",
       "\n",
       "            PRODUTO  NÚMERO DE POSTOS PESQUISADOS UNIDADE DE MEDIDA  \\\n",
       "0  ETANOL HIDRATADO                           127              R$/l   \n",
       "1  ETANOL HIDRATADO                           387              R$/l   \n",
       "2  ETANOL HIDRATADO                           192              R$/l   \n",
       "3  ETANOL HIDRATADO                           162              R$/l   \n",
       "4  ETANOL HIDRATADO                           103              R$/l   \n",
       "\n",
       "   PREÇO MÉDIO REVENDA  DESVIO PADRÃO REVENDA  PREÇO MÍNIMO REVENDA  \\\n",
       "0                1.288                  0.016                  1.19   \n",
       "1                1.162                  0.114                  0.89   \n",
       "2                1.389                  0.097                  1.18   \n",
       "3                1.262                  0.070                  1.09   \n",
       "4                1.181                  0.078                  1.05   \n",
       "\n",
       "   PREÇO MÁXIMO REVENDA MARGEM MÉDIA REVENDA  COEF DE VARIAÇÃO REVENDA  \\\n",
       "0                 1.350                0.463                     0.012   \n",
       "1                 1.449                0.399                     0.098   \n",
       "2                 1.760                0.419                     0.070   \n",
       "3                 1.509                0.432                     0.055   \n",
       "4                 1.400                 0.24                     0.066   \n",
       "\n",
       "  PREÇO MÉDIO DISTRIBUIÇÃO DESVIO PADRÃO DISTRIBUIÇÃO  \\\n",
       "0                    0.825                       0.11   \n",
       "1                    0.763                      0.088   \n",
       "2                     0.97                      0.095   \n",
       "3                     0.83                      0.119   \n",
       "4                    0.941                      0.077   \n",
       "\n",
       "  PREÇO MÍNIMO DISTRIBUIÇÃO PREÇO MÁXIMO DISTRIBUIÇÃO  \\\n",
       "0                    0.4201                    0.9666   \n",
       "1                    0.5013                      1.05   \n",
       "2                    0.5614                     1.161   \n",
       "3                    0.5991                   1.22242   \n",
       "4                    0.7441                    1.0317   \n",
       "\n",
       "  COEF DE VARIAÇÃO DISTRIBUIÇÃO  \n",
       "0                         0.133  \n",
       "1                         0.115  \n",
       "2                         0.098  \n",
       "3                         0.143  \n",
       "4                         0.082  "
      ]
     },
     "execution_count": 4,
     "metadata": {},
     "output_type": "execute_result"
    }
   ],
   "source": [
    "df.head() # Exibe as primeiras 5 linhas do DataFrame"
   ]
  },
  {
   "cell_type": "code",
   "execution_count": null,
   "id": "406d240266c032e2",
   "metadata": {
    "ExecuteTime": {
     "end_time": "2024-08-17T14:21:10.963377Z",
     "start_time": "2024-08-17T14:21:10.857497Z"
    }
   },
   "outputs": [
    {
     "name": "stdout",
     "output_type": "stream",
     "text": [
      "<class 'pandas.core.frame.DataFrame'>\n",
      "Index: 120823 entries, 0 to 120822\n",
      "Data columns (total 18 columns):\n",
      " #   Column                         Non-Null Count   Dtype  \n",
      "---  ------                         --------------   -----  \n",
      " 0   DATA INICIAL                   120823 non-null  object \n",
      " 1   DATA FINAL                     120823 non-null  object \n",
      " 2   REGIÃO                         120823 non-null  object \n",
      " 3   ESTADO                         120823 non-null  object \n",
      " 4   PRODUTO                        120823 non-null  object \n",
      " 5   NÚMERO DE POSTOS PESQUISADOS   120823 non-null  int64  \n",
      " 6   UNIDADE DE MEDIDA              120823 non-null  object \n",
      " 7   PREÇO MÉDIO REVENDA            120823 non-null  float64\n",
      " 8   DESVIO PADRÃO REVENDA          120823 non-null  float64\n",
      " 9   PREÇO MÍNIMO REVENDA           120823 non-null  float64\n",
      " 10  PREÇO MÁXIMO REVENDA           120823 non-null  float64\n",
      " 11  MARGEM MÉDIA REVENDA           120823 non-null  object \n",
      " 12  COEF DE VARIAÇÃO REVENDA       120823 non-null  float64\n",
      " 13  PREÇO MÉDIO DISTRIBUIÇÃO       120823 non-null  object \n",
      " 14  DESVIO PADRÃO DISTRIBUIÇÃO     120823 non-null  object \n",
      " 15  PREÇO MÍNIMO DISTRIBUIÇÃO      120823 non-null  object \n",
      " 16  PREÇO MÁXIMO DISTRIBUIÇÃO      120823 non-null  object \n",
      " 17  COEF DE VARIAÇÃO DISTRIBUIÇÃO  120823 non-null  object \n",
      "dtypes: float64(5), int64(1), object(12)\n",
      "memory usage: 17.5+ MB\n"
     ]
    }
   ],
   "source": [
    "df.info() # Exibe informações resumidas"
   ]
  },
  {
   "cell_type": "markdown",
   "id": "8d0adda72912ec09",
   "metadata": {},
   "source": [
    "### . Selecione a terceira entrada da coluna DATA INICIAL e verifique seu tipo.\n"
   ]
  },
  {
   "cell_type": "code",
   "execution_count": 6,
   "id": "f866c3148fb5cd38",
   "metadata": {
    "ExecuteTime": {
     "end_time": "2024-08-17T14:21:10.979795Z",
     "start_time": "2024-08-17T14:21:10.970389Z"
    }
   },
   "outputs": [
    {
     "data": {
      "text/plain": [
       "0    2004-05-09\n",
       "1    2004-05-09\n",
       "2    2004-05-09\n",
       "3    2004-05-09\n",
       "4    2004-05-09\n",
       "Name: DATA INICIAL, dtype: object"
      ]
     },
     "execution_count": 6,
     "metadata": {},
     "output_type": "execute_result"
    }
   ],
   "source": [
    "df['DATA INICIAL'].head(5)  # retorna uma Series contendo os 5 primeiros valores da coluna 'DATA INICIAL'."
   ]
  },
  {
   "cell_type": "code",
   "execution_count": null,
   "id": "b589a426",
   "metadata": {},
   "outputs": [],
   "source": []
  },
  {
   "cell_type": "markdown",
   "id": "2809f778016e216f",
   "metadata": {},
   "source": [
    "### . Você deve ter percebido que as colunas DATA INICIAL e DATA FINAL estão formatadas como string. Utilizando o método pd.to_datetime(), converta ambas colunas para Timestamp / Datetime."
   ]
  },
  {
   "cell_type": "code",
   "execution_count": 7,
   "id": "dddf59542032b9ef",
   "metadata": {
    "ExecuteTime": {
     "end_time": "2024-08-17T14:21:11.033344Z",
     "start_time": "2024-08-17T14:21:10.981806Z"
    }
   },
   "outputs": [],
   "source": [
    "df['DATA INICIAL'] = pd.to_datetime(df['DATA INICIAL'])\n",
    "df['DATA FINAL'] = pd.to_datetime(df['DATA FINAL'])"
   ]
  },
  {
   "cell_type": "markdown",
   "id": "90762cadba68fe27",
   "metadata": {},
   "source": [
    "### . Crie uma nova coluna para representar o ano e o mês(mm-aaaa), utilizando a coluna DATA FINAL como referência."
   ]
  },
  {
   "cell_type": "code",
   "execution_count": 8,
   "id": "978d2a0fe5a62683",
   "metadata": {
    "ExecuteTime": {
     "end_time": "2024-08-17T14:21:11.287481Z",
     "start_time": "2024-08-17T14:21:11.035352Z"
    }
   },
   "outputs": [],
   "source": [
    "# Cria a coluna 'ANO MES' combinando o ano e o mês da coluna 'DATA FINAL' no formato 'MM/YYYY', com o mês preenchido com dois dígitos\n",
    "df['MÊS/ANO'] = df['DATA FINAL'].apply(lambda x: str(x.month).zfill(2) + '/' + str(x.year))  \n"
   ]
  },
  {
   "cell_type": "markdown",
   "id": "df338ea4da415b4f",
   "metadata": {},
   "source": [
    "### . Utilizando o value_counts(), liste todos os tipos de produtos contidos na base de dados."
   ]
  },
  {
   "cell_type": "code",
   "execution_count": 9,
   "id": "d5631745e733cd66",
   "metadata": {
    "ExecuteTime": {
     "end_time": "2024-08-17T14:21:11.296852Z",
     "start_time": "2024-08-17T14:21:11.288489Z"
    }
   },
   "outputs": [
    {
     "data": {
      "text/plain": [
       "Index(['DATA INICIAL', 'DATA FINAL', 'REGIÃO', 'ESTADO', 'PRODUTO',\n",
       "       'NÚMERO DE POSTOS PESQUISADOS', 'UNIDADE DE MEDIDA',\n",
       "       'PREÇO MÉDIO REVENDA', 'DESVIO PADRÃO REVENDA', 'PREÇO MÍNIMO REVENDA',\n",
       "       'PREÇO MÁXIMO REVENDA', 'MARGEM MÉDIA REVENDA',\n",
       "       'COEF DE VARIAÇÃO REVENDA', 'PREÇO MÉDIO DISTRIBUIÇÃO',\n",
       "       'DESVIO PADRÃO DISTRIBUIÇÃO', 'PREÇO MÍNIMO DISTRIBUIÇÃO',\n",
       "       'PREÇO MÁXIMO DISTRIBUIÇÃO', 'COEF DE VARIAÇÃO DISTRIBUIÇÃO',\n",
       "       'MÊS/ANO'],\n",
       "      dtype='object')"
      ]
     },
     "execution_count": 9,
     "metadata": {},
     "output_type": "execute_result"
    }
   ],
   "source": [
    "df.columns  # Exibe os nomes das colunas do DataFrame `df`"
   ]
  },
  {
   "cell_type": "code",
   "execution_count": 10,
   "id": "f4ca74ceeb43b5f9",
   "metadata": {
    "ExecuteTime": {
     "end_time": "2024-08-17T14:21:11.316796Z",
     "start_time": "2024-08-17T14:21:11.298862Z"
    }
   },
   "outputs": [
    {
     "data": {
      "text/plain": [
       "PRODUTO\n",
       "GASOLINA COMUM        23570\n",
       "GLP                   23561\n",
       "ETANOL HIDRATADO      23440\n",
       "ÓLEO DIESEL           21194\n",
       "GNV                   14469\n",
       "ÓLEO DIESEL S10        9113\n",
       "OLEO DIESEL S10        2376\n",
       "OLEO DIESEL            2351\n",
       "GASOLINA ADITIVADA      749\n",
       "Name: count, dtype: int64"
      ]
     },
     "execution_count": 10,
     "metadata": {},
     "output_type": "execute_result"
    }
   ],
   "source": [
    "df['PRODUTO'].value_counts() # Conta a frequência de cada valor único na coluna 'PRODUTO' do DataFrame `df`"
   ]
  },
  {
   "cell_type": "markdown",
   "id": "ff3893b758d08648",
   "metadata": {},
   "source": [
    "### . Filtre o DataFrame para obter apenas dados da 'GASOLINA COMUM'. Grave em uma nova variável."
   ]
  },
  {
   "cell_type": "code",
   "execution_count": 11,
   "id": "6845b570fca5eecd",
   "metadata": {
    "ExecuteTime": {
     "end_time": "2024-08-17T14:21:11.363321Z",
     "start_time": "2024-08-17T14:21:11.317804Z"
    }
   },
   "outputs": [
    {
     "data": {
      "text/html": [
       "<div>\n",
       "<style scoped>\n",
       "    .dataframe tbody tr th:only-of-type {\n",
       "        vertical-align: middle;\n",
       "    }\n",
       "\n",
       "    .dataframe tbody tr th {\n",
       "        vertical-align: top;\n",
       "    }\n",
       "\n",
       "    .dataframe thead th {\n",
       "        text-align: right;\n",
       "    }\n",
       "</style>\n",
       "<table border=\"1\" class=\"dataframe\">\n",
       "  <thead>\n",
       "    <tr style=\"text-align: right;\">\n",
       "      <th></th>\n",
       "      <th>DATA INICIAL</th>\n",
       "      <th>DATA FINAL</th>\n",
       "      <th>REGIÃO</th>\n",
       "      <th>ESTADO</th>\n",
       "      <th>PRODUTO</th>\n",
       "      <th>NÚMERO DE POSTOS PESQUISADOS</th>\n",
       "      <th>UNIDADE DE MEDIDA</th>\n",
       "      <th>PREÇO MÉDIO REVENDA</th>\n",
       "      <th>DESVIO PADRÃO REVENDA</th>\n",
       "      <th>PREÇO MÍNIMO REVENDA</th>\n",
       "      <th>PREÇO MÁXIMO REVENDA</th>\n",
       "      <th>MARGEM MÉDIA REVENDA</th>\n",
       "      <th>COEF DE VARIAÇÃO REVENDA</th>\n",
       "      <th>PREÇO MÉDIO DISTRIBUIÇÃO</th>\n",
       "      <th>DESVIO PADRÃO DISTRIBUIÇÃO</th>\n",
       "      <th>PREÇO MÍNIMO DISTRIBUIÇÃO</th>\n",
       "      <th>PREÇO MÁXIMO DISTRIBUIÇÃO</th>\n",
       "      <th>COEF DE VARIAÇÃO DISTRIBUIÇÃO</th>\n",
       "      <th>MÊS/ANO</th>\n",
       "    </tr>\n",
       "  </thead>\n",
       "  <tbody>\n",
       "    <tr>\n",
       "      <th>12064</th>\n",
       "      <td>2004-05-09</td>\n",
       "      <td>2004-05-15</td>\n",
       "      <td>CENTRO OESTE</td>\n",
       "      <td>DISTRITO FEDERAL</td>\n",
       "      <td>GASOLINA COMUM</td>\n",
       "      <td>128</td>\n",
       "      <td>R$/l</td>\n",
       "      <td>2.029</td>\n",
       "      <td>0.007</td>\n",
       "      <td>1.990</td>\n",
       "      <td>2.070</td>\n",
       "      <td>0.318</td>\n",
       "      <td>0.003</td>\n",
       "      <td>1.711</td>\n",
       "      <td>0.02</td>\n",
       "      <td>1.651</td>\n",
       "      <td>1.7427</td>\n",
       "      <td>0.012</td>\n",
       "      <td>05/2004</td>\n",
       "    </tr>\n",
       "    <tr>\n",
       "      <th>12065</th>\n",
       "      <td>2004-05-09</td>\n",
       "      <td>2004-05-15</td>\n",
       "      <td>CENTRO OESTE</td>\n",
       "      <td>GOIAS</td>\n",
       "      <td>GASOLINA COMUM</td>\n",
       "      <td>395</td>\n",
       "      <td>R$/l</td>\n",
       "      <td>2.025</td>\n",
       "      <td>0.062</td>\n",
       "      <td>1.850</td>\n",
       "      <td>2.220</td>\n",
       "      <td>0.296</td>\n",
       "      <td>0.031</td>\n",
       "      <td>1.729</td>\n",
       "      <td>0.036</td>\n",
       "      <td>1.6643</td>\n",
       "      <td>1.915</td>\n",
       "      <td>0.021</td>\n",
       "      <td>05/2004</td>\n",
       "    </tr>\n",
       "    <tr>\n",
       "      <th>12066</th>\n",
       "      <td>2004-05-09</td>\n",
       "      <td>2004-05-15</td>\n",
       "      <td>CENTRO OESTE</td>\n",
       "      <td>MATO GROSSO</td>\n",
       "      <td>GASOLINA COMUM</td>\n",
       "      <td>194</td>\n",
       "      <td>R$/l</td>\n",
       "      <td>2.358</td>\n",
       "      <td>0.066</td>\n",
       "      <td>2.000</td>\n",
       "      <td>2.540</td>\n",
       "      <td>0.472</td>\n",
       "      <td>0.028</td>\n",
       "      <td>1.886</td>\n",
       "      <td>0.068</td>\n",
       "      <td>1.75</td>\n",
       "      <td>2.0713</td>\n",
       "      <td>0.036</td>\n",
       "      <td>05/2004</td>\n",
       "    </tr>\n",
       "    <tr>\n",
       "      <th>12067</th>\n",
       "      <td>2004-05-09</td>\n",
       "      <td>2004-05-15</td>\n",
       "      <td>CENTRO OESTE</td>\n",
       "      <td>MATO GROSSO DO SUL</td>\n",
       "      <td>GASOLINA COMUM</td>\n",
       "      <td>166</td>\n",
       "      <td>R$/l</td>\n",
       "      <td>2.120</td>\n",
       "      <td>0.075</td>\n",
       "      <td>1.970</td>\n",
       "      <td>2.440</td>\n",
       "      <td>0.325</td>\n",
       "      <td>0.035</td>\n",
       "      <td>1.795</td>\n",
       "      <td>0.033</td>\n",
       "      <td>1.70701</td>\n",
       "      <td>1.9703</td>\n",
       "      <td>0.018</td>\n",
       "      <td>05/2004</td>\n",
       "    </tr>\n",
       "    <tr>\n",
       "      <th>12068</th>\n",
       "      <td>2004-05-09</td>\n",
       "      <td>2004-05-15</td>\n",
       "      <td>NORDESTE</td>\n",
       "      <td>ALAGOAS</td>\n",
       "      <td>GASOLINA COMUM</td>\n",
       "      <td>106</td>\n",
       "      <td>R$/l</td>\n",
       "      <td>2.090</td>\n",
       "      <td>0.034</td>\n",
       "      <td>2.000</td>\n",
       "      <td>2.159</td>\n",
       "      <td>0.35</td>\n",
       "      <td>0.016</td>\n",
       "      <td>1.74</td>\n",
       "      <td>0.042</td>\n",
       "      <td>1.6789</td>\n",
       "      <td>1.918</td>\n",
       "      <td>0.024</td>\n",
       "      <td>05/2004</td>\n",
       "    </tr>\n",
       "    <tr>\n",
       "      <th>...</th>\n",
       "      <td>...</td>\n",
       "      <td>...</td>\n",
       "      <td>...</td>\n",
       "      <td>...</td>\n",
       "      <td>...</td>\n",
       "      <td>...</td>\n",
       "      <td>...</td>\n",
       "      <td>...</td>\n",
       "      <td>...</td>\n",
       "      <td>...</td>\n",
       "      <td>...</td>\n",
       "      <td>...</td>\n",
       "      <td>...</td>\n",
       "      <td>...</td>\n",
       "      <td>...</td>\n",
       "      <td>...</td>\n",
       "      <td>...</td>\n",
       "      <td>...</td>\n",
       "      <td>...</td>\n",
       "    </tr>\n",
       "    <tr>\n",
       "      <th>120721</th>\n",
       "      <td>2021-04-25</td>\n",
       "      <td>2021-05-01</td>\n",
       "      <td>NORTE</td>\n",
       "      <td>RORAIMA</td>\n",
       "      <td>GASOLINA COMUM</td>\n",
       "      <td>12</td>\n",
       "      <td>R$/l</td>\n",
       "      <td>5.364</td>\n",
       "      <td>0.065</td>\n",
       "      <td>5.310</td>\n",
       "      <td>5.530</td>\n",
       "      <td>-99999.0</td>\n",
       "      <td>0.012</td>\n",
       "      <td>-99999.0</td>\n",
       "      <td>-99999.0</td>\n",
       "      <td>-99999.0</td>\n",
       "      <td>-99999.0</td>\n",
       "      <td>-99999.0</td>\n",
       "      <td>05/2021</td>\n",
       "    </tr>\n",
       "    <tr>\n",
       "      <th>120722</th>\n",
       "      <td>2021-04-25</td>\n",
       "      <td>2021-05-01</td>\n",
       "      <td>SUL</td>\n",
       "      <td>SANTA CATARINA</td>\n",
       "      <td>GASOLINA COMUM</td>\n",
       "      <td>119</td>\n",
       "      <td>R$/l</td>\n",
       "      <td>5.051</td>\n",
       "      <td>0.251</td>\n",
       "      <td>4.640</td>\n",
       "      <td>5.599</td>\n",
       "      <td>-99999.0</td>\n",
       "      <td>0.050</td>\n",
       "      <td>-99999.0</td>\n",
       "      <td>-99999.0</td>\n",
       "      <td>-99999.0</td>\n",
       "      <td>-99999.0</td>\n",
       "      <td>-99999.0</td>\n",
       "      <td>05/2021</td>\n",
       "    </tr>\n",
       "    <tr>\n",
       "      <th>120723</th>\n",
       "      <td>2021-04-25</td>\n",
       "      <td>2021-05-01</td>\n",
       "      <td>SUDESTE</td>\n",
       "      <td>SAO PAULO</td>\n",
       "      <td>GASOLINA COMUM</td>\n",
       "      <td>1187</td>\n",
       "      <td>R$/l</td>\n",
       "      <td>5.265</td>\n",
       "      <td>0.218</td>\n",
       "      <td>4.279</td>\n",
       "      <td>6.099</td>\n",
       "      <td>-99999.0</td>\n",
       "      <td>0.041</td>\n",
       "      <td>-99999.0</td>\n",
       "      <td>-99999.0</td>\n",
       "      <td>-99999.0</td>\n",
       "      <td>-99999.0</td>\n",
       "      <td>-99999.0</td>\n",
       "      <td>05/2021</td>\n",
       "    </tr>\n",
       "    <tr>\n",
       "      <th>120724</th>\n",
       "      <td>2021-04-25</td>\n",
       "      <td>2021-05-01</td>\n",
       "      <td>NORDESTE</td>\n",
       "      <td>SERGIPE</td>\n",
       "      <td>GASOLINA COMUM</td>\n",
       "      <td>34</td>\n",
       "      <td>R$/l</td>\n",
       "      <td>5.586</td>\n",
       "      <td>0.088</td>\n",
       "      <td>5.410</td>\n",
       "      <td>5.699</td>\n",
       "      <td>-99999.0</td>\n",
       "      <td>0.016</td>\n",
       "      <td>-99999.0</td>\n",
       "      <td>-99999.0</td>\n",
       "      <td>-99999.0</td>\n",
       "      <td>-99999.0</td>\n",
       "      <td>-99999.0</td>\n",
       "      <td>05/2021</td>\n",
       "    </tr>\n",
       "    <tr>\n",
       "      <th>120725</th>\n",
       "      <td>2021-04-25</td>\n",
       "      <td>2021-05-01</td>\n",
       "      <td>NORTE</td>\n",
       "      <td>TOCANTINS</td>\n",
       "      <td>GASOLINA COMUM</td>\n",
       "      <td>20</td>\n",
       "      <td>R$/l</td>\n",
       "      <td>5.751</td>\n",
       "      <td>0.160</td>\n",
       "      <td>5.578</td>\n",
       "      <td>6.119</td>\n",
       "      <td>-99999.0</td>\n",
       "      <td>0.028</td>\n",
       "      <td>-99999.0</td>\n",
       "      <td>-99999.0</td>\n",
       "      <td>-99999.0</td>\n",
       "      <td>-99999.0</td>\n",
       "      <td>-99999.0</td>\n",
       "      <td>05/2021</td>\n",
       "    </tr>\n",
       "  </tbody>\n",
       "</table>\n",
       "<p>23570 rows × 19 columns</p>\n",
       "</div>"
      ],
      "text/plain": [
       "       DATA INICIAL DATA FINAL        REGIÃO              ESTADO  \\\n",
       "12064    2004-05-09 2004-05-15  CENTRO OESTE    DISTRITO FEDERAL   \n",
       "12065    2004-05-09 2004-05-15  CENTRO OESTE               GOIAS   \n",
       "12066    2004-05-09 2004-05-15  CENTRO OESTE         MATO GROSSO   \n",
       "12067    2004-05-09 2004-05-15  CENTRO OESTE  MATO GROSSO DO SUL   \n",
       "12068    2004-05-09 2004-05-15      NORDESTE             ALAGOAS   \n",
       "...             ...        ...           ...                 ...   \n",
       "120721   2021-04-25 2021-05-01         NORTE             RORAIMA   \n",
       "120722   2021-04-25 2021-05-01           SUL      SANTA CATARINA   \n",
       "120723   2021-04-25 2021-05-01       SUDESTE           SAO PAULO   \n",
       "120724   2021-04-25 2021-05-01      NORDESTE             SERGIPE   \n",
       "120725   2021-04-25 2021-05-01         NORTE           TOCANTINS   \n",
       "\n",
       "               PRODUTO  NÚMERO DE POSTOS PESQUISADOS UNIDADE DE MEDIDA  \\\n",
       "12064   GASOLINA COMUM                           128              R$/l   \n",
       "12065   GASOLINA COMUM                           395              R$/l   \n",
       "12066   GASOLINA COMUM                           194              R$/l   \n",
       "12067   GASOLINA COMUM                           166              R$/l   \n",
       "12068   GASOLINA COMUM                           106              R$/l   \n",
       "...                ...                           ...               ...   \n",
       "120721  GASOLINA COMUM                            12              R$/l   \n",
       "120722  GASOLINA COMUM                           119              R$/l   \n",
       "120723  GASOLINA COMUM                          1187              R$/l   \n",
       "120724  GASOLINA COMUM                            34              R$/l   \n",
       "120725  GASOLINA COMUM                            20              R$/l   \n",
       "\n",
       "        PREÇO MÉDIO REVENDA  DESVIO PADRÃO REVENDA  PREÇO MÍNIMO REVENDA  \\\n",
       "12064                 2.029                  0.007                 1.990   \n",
       "12065                 2.025                  0.062                 1.850   \n",
       "12066                 2.358                  0.066                 2.000   \n",
       "12067                 2.120                  0.075                 1.970   \n",
       "12068                 2.090                  0.034                 2.000   \n",
       "...                     ...                    ...                   ...   \n",
       "120721                5.364                  0.065                 5.310   \n",
       "120722                5.051                  0.251                 4.640   \n",
       "120723                5.265                  0.218                 4.279   \n",
       "120724                5.586                  0.088                 5.410   \n",
       "120725                5.751                  0.160                 5.578   \n",
       "\n",
       "        PREÇO MÁXIMO REVENDA MARGEM MÉDIA REVENDA  COEF DE VARIAÇÃO REVENDA  \\\n",
       "12064                  2.070                0.318                     0.003   \n",
       "12065                  2.220                0.296                     0.031   \n",
       "12066                  2.540                0.472                     0.028   \n",
       "12067                  2.440                0.325                     0.035   \n",
       "12068                  2.159                 0.35                     0.016   \n",
       "...                      ...                  ...                       ...   \n",
       "120721                 5.530             -99999.0                     0.012   \n",
       "120722                 5.599             -99999.0                     0.050   \n",
       "120723                 6.099             -99999.0                     0.041   \n",
       "120724                 5.699             -99999.0                     0.016   \n",
       "120725                 6.119             -99999.0                     0.028   \n",
       "\n",
       "       PREÇO MÉDIO DISTRIBUIÇÃO DESVIO PADRÃO DISTRIBUIÇÃO  \\\n",
       "12064                     1.711                       0.02   \n",
       "12065                     1.729                      0.036   \n",
       "12066                     1.886                      0.068   \n",
       "12067                     1.795                      0.033   \n",
       "12068                      1.74                      0.042   \n",
       "...                         ...                        ...   \n",
       "120721                 -99999.0                   -99999.0   \n",
       "120722                 -99999.0                   -99999.0   \n",
       "120723                 -99999.0                   -99999.0   \n",
       "120724                 -99999.0                   -99999.0   \n",
       "120725                 -99999.0                   -99999.0   \n",
       "\n",
       "       PREÇO MÍNIMO DISTRIBUIÇÃO PREÇO MÁXIMO DISTRIBUIÇÃO  \\\n",
       "12064                      1.651                    1.7427   \n",
       "12065                     1.6643                     1.915   \n",
       "12066                       1.75                    2.0713   \n",
       "12067                    1.70701                    1.9703   \n",
       "12068                     1.6789                     1.918   \n",
       "...                          ...                       ...   \n",
       "120721                  -99999.0                  -99999.0   \n",
       "120722                  -99999.0                  -99999.0   \n",
       "120723                  -99999.0                  -99999.0   \n",
       "120724                  -99999.0                  -99999.0   \n",
       "120725                  -99999.0                  -99999.0   \n",
       "\n",
       "       COEF DE VARIAÇÃO DISTRIBUIÇÃO  MÊS/ANO  \n",
       "12064                          0.012  05/2004  \n",
       "12065                          0.021  05/2004  \n",
       "12066                          0.036  05/2004  \n",
       "12067                          0.018  05/2004  \n",
       "12068                          0.024  05/2004  \n",
       "...                              ...      ...  \n",
       "120721                      -99999.0  05/2021  \n",
       "120722                      -99999.0  05/2021  \n",
       "120723                      -99999.0  05/2021  \n",
       "120724                      -99999.0  05/2021  \n",
       "120725                      -99999.0  05/2021  \n",
       "\n",
       "[23570 rows x 19 columns]"
      ]
     },
     "execution_count": 11,
     "metadata": {},
     "output_type": "execute_result"
    }
   ],
   "source": [
    "# Cria uma série booleana onde cada valor é True se a coluna 'PRODUTO' for igual a 'GASOLINA COMUM', e False caso contrário\n",
    "df_filtro_gasolina = df['PRODUTO'] == 'GASOLINA COMUM'\n",
    "\n",
    "# Filtra o DataFrame `df`, mantendo apenas as linhas onde `df_filtro_gasolina` é True (ou seja, onde o produto é 'GASOLINA COMUM')\n",
    "df3 = df[df_filtro_gasolina]\n",
    "df3"
   ]
  },
  {
   "cell_type": "markdown",
   "id": "77ec2eb0eb2eaf71",
   "metadata": {},
   "source": [
    "### . Qual o preço médio de revenda da gasolina em agosto de 2008?"
   ]
  },
  {
   "cell_type": "code",
   "execution_count": 12,
   "id": "a9cb5fbb9535fd79",
   "metadata": {
    "ExecuteTime": {
     "end_time": "2024-08-17T14:21:11.376294Z",
     "start_time": "2024-08-17T14:21:11.366329Z"
    }
   },
   "outputs": [
    {
     "data": {
      "text/plain": [
       "np.float64(2.6012444444444442)"
      ]
     },
     "execution_count": 12,
     "metadata": {},
     "output_type": "execute_result"
    }
   ],
   "source": [
    "# Filtra o DataFrame `df3` para obter as linhas onde a coluna 'MÊS/ANO' é igual a '08/2008'\n",
    "# Em seguida, seleciona a coluna 'PREÇO MÉDIO REVENDA' e calcula a média desses valores\n",
    "media_preco_revenda = df3[df3['MÊS/ANO'] == '08/2008']['PREÇO MÉDIO REVENDA'].mean()\n",
    "media_preco_revenda\n"
   ]
  },
  {
   "cell_type": "markdown",
   "id": "38863fd774891637",
   "metadata": {},
   "source": [
    "### . Qual o preço médio de revenda da gasolina em maio de 2014 em São Paulo?"
   ]
  },
  {
   "cell_type": "code",
   "execution_count": 13,
   "id": "aa6fb93698012f00",
   "metadata": {
    "ExecuteTime": {
     "end_time": "2024-08-17T14:21:11.390988Z",
     "start_time": "2024-08-17T14:21:11.378304Z"
    }
   },
   "outputs": [
    {
     "data": {
      "text/plain": [
       "np.float64(2.8822)"
      ]
     },
     "execution_count": 13,
     "metadata": {},
     "output_type": "execute_result"
    }
   ],
   "source": [
    "media_SP = df3[(df3['MÊS/ANO'] == '05/2014') & (df3['ESTADO'] == 'SAO PAULO')]['PREÇO MÉDIO REVENDA'].mean()\n",
    "media_SP"
   ]
  },
  {
   "cell_type": "markdown",
   "id": "c0dc51bcfe61fe75",
   "metadata": {},
   "source": [
    "### . Você conseguiria descobrir em qual(quais) estado(s) a gasolina ultrapassou a barreira dos R$ 5,00? E quando isso ocorreu?\n"
   ]
  },
  {
   "cell_type": "code",
   "execution_count": 14,
   "id": "9484f0a8ea4f426c",
   "metadata": {
    "ExecuteTime": {
     "end_time": "2024-08-17T14:43:37.627725Z",
     "start_time": "2024-08-17T14:43:37.612730Z"
    }
   },
   "outputs": [
    {
     "data": {
      "text/html": [
       "<div>\n",
       "<style scoped>\n",
       "    .dataframe tbody tr th:only-of-type {\n",
       "        vertical-align: middle;\n",
       "    }\n",
       "\n",
       "    .dataframe tbody tr th {\n",
       "        vertical-align: top;\n",
       "    }\n",
       "\n",
       "    .dataframe thead th {\n",
       "        text-align: right;\n",
       "    }\n",
       "</style>\n",
       "<table border=\"1\" class=\"dataframe\">\n",
       "  <thead>\n",
       "    <tr style=\"text-align: right;\">\n",
       "      <th></th>\n",
       "      <th>ESTADO</th>\n",
       "      <th>MÊS/ANO</th>\n",
       "      <th>PREÇO MÉDIO REVENDA</th>\n",
       "    </tr>\n",
       "  </thead>\n",
       "  <tbody>\n",
       "    <tr>\n",
       "      <th>98201</th>\n",
       "      <td>ACRE</td>\n",
       "      <td>05/2018</td>\n",
       "      <td>5.053</td>\n",
       "    </tr>\n",
       "    <tr>\n",
       "      <th>98347</th>\n",
       "      <td>ACRE</td>\n",
       "      <td>06/2018</td>\n",
       "      <td>5.035</td>\n",
       "    </tr>\n",
       "    <tr>\n",
       "      <th>98493</th>\n",
       "      <td>ACRE</td>\n",
       "      <td>06/2018</td>\n",
       "      <td>5.038</td>\n",
       "    </tr>\n",
       "    <tr>\n",
       "      <th>98511</th>\n",
       "      <td>RIO DE JANEIRO</td>\n",
       "      <td>06/2018</td>\n",
       "      <td>5.016</td>\n",
       "    </tr>\n",
       "    <tr>\n",
       "      <th>98646</th>\n",
       "      <td>ACRE</td>\n",
       "      <td>06/2018</td>\n",
       "      <td>5.031</td>\n",
       "    </tr>\n",
       "    <tr>\n",
       "      <th>98797</th>\n",
       "      <td>ACRE</td>\n",
       "      <td>06/2018</td>\n",
       "      <td>5.036</td>\n",
       "    </tr>\n",
       "    <tr>\n",
       "      <th>98948</th>\n",
       "      <td>ACRE</td>\n",
       "      <td>06/2018</td>\n",
       "      <td>5.039</td>\n",
       "    </tr>\n",
       "    <tr>\n",
       "      <th>99098</th>\n",
       "      <td>ACRE</td>\n",
       "      <td>07/2018</td>\n",
       "      <td>5.021</td>\n",
       "    </tr>\n",
       "    <tr>\n",
       "      <th>99247</th>\n",
       "      <td>ACRE</td>\n",
       "      <td>07/2018</td>\n",
       "      <td>5.042</td>\n",
       "    </tr>\n",
       "    <tr>\n",
       "      <th>99398</th>\n",
       "      <td>ACRE</td>\n",
       "      <td>07/2018</td>\n",
       "      <td>5.038</td>\n",
       "    </tr>\n",
       "    <tr>\n",
       "      <th>99549</th>\n",
       "      <td>ACRE</td>\n",
       "      <td>07/2018</td>\n",
       "      <td>5.033</td>\n",
       "    </tr>\n",
       "    <tr>\n",
       "      <th>99701</th>\n",
       "      <td>ACRE</td>\n",
       "      <td>08/2018</td>\n",
       "      <td>5.031</td>\n",
       "    </tr>\n",
       "    <tr>\n",
       "      <th>99852</th>\n",
       "      <td>ACRE</td>\n",
       "      <td>08/2018</td>\n",
       "      <td>5.015</td>\n",
       "    </tr>\n",
       "    <tr>\n",
       "      <th>100003</th>\n",
       "      <td>ACRE</td>\n",
       "      <td>08/2018</td>\n",
       "      <td>5.023</td>\n",
       "    </tr>\n",
       "    <tr>\n",
       "      <th>100153</th>\n",
       "      <td>ACRE</td>\n",
       "      <td>08/2018</td>\n",
       "      <td>5.036</td>\n",
       "    </tr>\n",
       "    <tr>\n",
       "      <th>100302</th>\n",
       "      <td>ACRE</td>\n",
       "      <td>09/2018</td>\n",
       "      <td>5.018</td>\n",
       "    </tr>\n",
       "    <tr>\n",
       "      <th>100453</th>\n",
       "      <td>ACRE</td>\n",
       "      <td>09/2018</td>\n",
       "      <td>5.074</td>\n",
       "    </tr>\n",
       "    <tr>\n",
       "      <th>100604</th>\n",
       "      <td>ACRE</td>\n",
       "      <td>09/2018</td>\n",
       "      <td>5.129</td>\n",
       "    </tr>\n",
       "    <tr>\n",
       "      <th>100756</th>\n",
       "      <td>ACRE</td>\n",
       "      <td>09/2018</td>\n",
       "      <td>5.153</td>\n",
       "    </tr>\n",
       "    <tr>\n",
       "      <th>100774</th>\n",
       "      <td>RIO DE JANEIRO</td>\n",
       "      <td>09/2018</td>\n",
       "      <td>5.036</td>\n",
       "    </tr>\n",
       "  </tbody>\n",
       "</table>\n",
       "</div>"
      ],
      "text/plain": [
       "                ESTADO  MÊS/ANO  PREÇO MÉDIO REVENDA\n",
       "98201             ACRE  05/2018                5.053\n",
       "98347             ACRE  06/2018                5.035\n",
       "98493             ACRE  06/2018                5.038\n",
       "98511   RIO DE JANEIRO  06/2018                5.016\n",
       "98646             ACRE  06/2018                5.031\n",
       "98797             ACRE  06/2018                5.036\n",
       "98948             ACRE  06/2018                5.039\n",
       "99098             ACRE  07/2018                5.021\n",
       "99247             ACRE  07/2018                5.042\n",
       "99398             ACRE  07/2018                5.038\n",
       "99549             ACRE  07/2018                5.033\n",
       "99701             ACRE  08/2018                5.031\n",
       "99852             ACRE  08/2018                5.015\n",
       "100003            ACRE  08/2018                5.023\n",
       "100153            ACRE  08/2018                5.036\n",
       "100302            ACRE  09/2018                5.018\n",
       "100453            ACRE  09/2018                5.074\n",
       "100604            ACRE  09/2018                5.129\n",
       "100756            ACRE  09/2018                5.153\n",
       "100774  RIO DE JANEIRO  09/2018                5.036"
      ]
     },
     "execution_count": 14,
     "metadata": {},
     "output_type": "execute_result"
    }
   ],
   "source": [
    "df3[df3['PREÇO MÉDIO REVENDA'] > 5][['ESTADO', 'MÊS/ANO', 'PREÇO MÉDIO REVENDA']].head(20)"
   ]
  },
  {
   "cell_type": "markdown",
   "id": "e783d573d090b28b",
   "metadata": {},
   "source": [
    "### . Qual a média de preço dos estados da região sul em 2012?"
   ]
  },
  {
   "cell_type": "code",
   "execution_count": 15,
   "id": "9c904d79e5fd40e1",
   "metadata": {
    "ExecuteTime": {
     "end_time": "2024-08-17T15:07:57.096617Z",
     "start_time": "2024-08-17T15:07:57.058894Z"
    }
   },
   "outputs": [
    {
     "data": {
      "text/plain": [
       "np.float64(2.7214423076923073)"
      ]
     },
     "execution_count": 15,
     "metadata": {},
     "output_type": "execute_result"
    }
   ],
   "source": [
    "df_aux_2012 = df3[df3['DATA FINAL'].apply(lambda x: x.year == 2012)]\n",
    "df_aux_2012[df_aux_2012['REGIÃO'] == 'SUL']['PREÇO MÉDIO REVENDA'].mean()"
   ]
  },
  {
   "cell_type": "markdown",
   "id": "ac0b4487be22e680",
   "metadata": {},
   "source": [
    "### . Você conseguiria obter uma tabela contendo a variação percentual ano a ano para o estado do Rio de Janeiro?"
   ]
  },
  {
   "cell_type": "code",
   "execution_count": 16,
   "id": "49d89e580d912028",
   "metadata": {
    "ExecuteTime": {
     "end_time": "2024-08-17T20:18:34.911168Z",
     "start_time": "2024-08-17T20:18:34.741615Z"
    }
   },
   "outputs": [
    {
     "name": "stderr",
     "output_type": "stream",
     "text": [
      "C:\\Users\\Avell G1565\\AppData\\Local\\Temp\\ipykernel_15620\\3736618983.py:1: SettingWithCopyWarning: \n",
      "A value is trying to be set on a copy of a slice from a DataFrame.\n",
      "Try using .loc[row_indexer,col_indexer] = value instead\n",
      "\n",
      "See the caveats in the documentation: https://pandas.pydata.org/pandas-docs/stable/user_guide/indexing.html#returning-a-view-versus-a-copy\n",
      "  df3.loc[:,'MÊS'] = df3['DATA FINAL'].apply(lambda x: x.month)\n"
     ]
    },
    {
     "data": {
      "text/html": [
       "<div>\n",
       "<style scoped>\n",
       "    .dataframe tbody tr th:only-of-type {\n",
       "        vertical-align: middle;\n",
       "    }\n",
       "\n",
       "    .dataframe tbody tr th {\n",
       "        vertical-align: top;\n",
       "    }\n",
       "\n",
       "    .dataframe thead th {\n",
       "        text-align: right;\n",
       "    }\n",
       "</style>\n",
       "<table border=\"1\" class=\"dataframe\">\n",
       "  <thead>\n",
       "    <tr style=\"text-align: right;\">\n",
       "      <th></th>\n",
       "      <th>PREÇO MÉDIO REVENDA</th>\n",
       "      <th>MÊS</th>\n",
       "    </tr>\n",
       "    <tr>\n",
       "      <th>MÊS/ANO</th>\n",
       "      <th></th>\n",
       "      <th></th>\n",
       "    </tr>\n",
       "  </thead>\n",
       "  <tbody>\n",
       "    <tr>\n",
       "      <th>12/2004</th>\n",
       "      <td>NaN</td>\n",
       "      <td>NaN</td>\n",
       "    </tr>\n",
       "    <tr>\n",
       "      <th>12/2005</th>\n",
       "      <td>9.233449</td>\n",
       "      <td>0.0</td>\n",
       "    </tr>\n",
       "    <tr>\n",
       "      <th>12/2006</th>\n",
       "      <td>0.917065</td>\n",
       "      <td>0.0</td>\n",
       "    </tr>\n",
       "    <tr>\n",
       "      <th>12/2007</th>\n",
       "      <td>0.355591</td>\n",
       "      <td>0.0</td>\n",
       "    </tr>\n",
       "    <tr>\n",
       "      <th>12/2008</th>\n",
       "      <td>0.984252</td>\n",
       "      <td>0.0</td>\n",
       "    </tr>\n",
       "    <tr>\n",
       "      <th>12/2009</th>\n",
       "      <td>1.637427</td>\n",
       "      <td>0.0</td>\n",
       "    </tr>\n",
       "    <tr>\n",
       "      <th>12/2010</th>\n",
       "      <td>2.032988</td>\n",
       "      <td>0.0</td>\n",
       "    </tr>\n",
       "    <tr>\n",
       "      <th>12/2011</th>\n",
       "      <td>7.105263</td>\n",
       "      <td>0.0</td>\n",
       "    </tr>\n",
       "    <tr>\n",
       "      <th>12/2012</th>\n",
       "      <td>0.982801</td>\n",
       "      <td>0.0</td>\n",
       "    </tr>\n",
       "    <tr>\n",
       "      <th>12/2013</th>\n",
       "      <td>6.777894</td>\n",
       "      <td>0.0</td>\n",
       "    </tr>\n",
       "    <tr>\n",
       "      <th>12/2014</th>\n",
       "      <td>4.361979</td>\n",
       "      <td>0.0</td>\n",
       "    </tr>\n",
       "    <tr>\n",
       "      <th>12/2015</th>\n",
       "      <td>20.461634</td>\n",
       "      <td>0.0</td>\n",
       "    </tr>\n",
       "    <tr>\n",
       "      <th>12/2016</th>\n",
       "      <td>3.625065</td>\n",
       "      <td>0.0</td>\n",
       "    </tr>\n",
       "    <tr>\n",
       "      <th>12/2017</th>\n",
       "      <td>13.643178</td>\n",
       "      <td>0.0</td>\n",
       "    </tr>\n",
       "    <tr>\n",
       "      <th>12/2018</th>\n",
       "      <td>5.804749</td>\n",
       "      <td>0.0</td>\n",
       "    </tr>\n",
       "    <tr>\n",
       "      <th>12/2019</th>\n",
       "      <td>3.802993</td>\n",
       "      <td>0.0</td>\n",
       "    </tr>\n",
       "    <tr>\n",
       "      <th>12/2020</th>\n",
       "      <td>-1.321321</td>\n",
       "      <td>0.0</td>\n",
       "    </tr>\n",
       "  </tbody>\n",
       "</table>\n",
       "</div>"
      ],
      "text/plain": [
       "         PREÇO MÉDIO REVENDA  MÊS\n",
       "MÊS/ANO                          \n",
       "12/2004                  NaN  NaN\n",
       "12/2005             9.233449  0.0\n",
       "12/2006             0.917065  0.0\n",
       "12/2007             0.355591  0.0\n",
       "12/2008             0.984252  0.0\n",
       "12/2009             1.637427  0.0\n",
       "12/2010             2.032988  0.0\n",
       "12/2011             7.105263  0.0\n",
       "12/2012             0.982801  0.0\n",
       "12/2013             6.777894  0.0\n",
       "12/2014             4.361979  0.0\n",
       "12/2015            20.461634  0.0\n",
       "12/2016             3.625065  0.0\n",
       "12/2017            13.643178  0.0\n",
       "12/2018             5.804749  0.0\n",
       "12/2019             3.802993  0.0\n",
       "12/2020            -1.321321  0.0"
      ]
     },
     "execution_count": 16,
     "metadata": {},
     "output_type": "execute_result"
    }
   ],
   "source": [
    "df3.loc[:,'MÊS'] = df3['DATA FINAL'].apply(lambda x: x.month)\n",
    "df_rio = df3[df3['ESTADO'] == 'RIO DE JANEIRO']\n",
    "df_mes_rio = df_rio.groupby('MÊS/ANO')[['PREÇO MÉDIO REVENDA', 'MÊS']].last()\n",
    "(df_mes_rio[df_mes_rio['MÊS'] == 12] / df_mes_rio[df_mes_rio['MÊS'] == 12].shift(1) -1 ) * 100\n"
   ]
  },
  {
   "cell_type": "markdown",
   "id": "8e2bdf82",
   "metadata": {},
   "source": [
    "### DESAFIO: Crie uma tabela contendo uma serie temporal com a diferença absoluta e percentual entre os valores mais baratos e caros. Apresente também ao lado os estados na qual os maiores e menores preços foram registrados."
   ]
  },
  {
   "cell_type": "code",
   "execution_count": 17,
   "id": "f150593998f80438",
   "metadata": {},
   "outputs": [
    {
     "name": "stderr",
     "output_type": "stream",
     "text": [
      "C:\\Users\\Avell G1565\\AppData\\Local\\Temp\\ipykernel_15620\\2156466712.py:2: SettingWithCopyWarning: \n",
      "A value is trying to be set on a copy of a slice from a DataFrame.\n",
      "Try using .loc[row_indexer,col_indexer] = value instead\n",
      "\n",
      "See the caveats in the documentation: https://pandas.pydata.org/pandas-docs/stable/user_guide/indexing.html#returning-a-view-versus-a-copy\n",
      "  df3['ANO/MÊS'] = df3['DATA FINAL'].apply(lambda x: str(x.year) + '/' + str(x.month).zfill(2))\n"
     ]
    },
    {
     "data": {
      "text/html": [
       "<div>\n",
       "<style scoped>\n",
       "    .dataframe tbody tr th:only-of-type {\n",
       "        vertical-align: middle;\n",
       "    }\n",
       "\n",
       "    .dataframe tbody tr th {\n",
       "        vertical-align: top;\n",
       "    }\n",
       "\n",
       "    .dataframe thead th {\n",
       "        text-align: right;\n",
       "    }\n",
       "</style>\n",
       "<table border=\"1\" class=\"dataframe\">\n",
       "  <thead>\n",
       "    <tr style=\"text-align: right;\">\n",
       "      <th></th>\n",
       "      <th>DIFERENÇA ABSOLUTA</th>\n",
       "      <th>DIFERENÇA PERCENTUAL</th>\n",
       "      <th>MÁXIMO</th>\n",
       "      <th>MÍNIMO</th>\n",
       "      <th>MÁXIMO POR ESTADO</th>\n",
       "      <th>MÍNIMO POR ESTADO</th>\n",
       "    </tr>\n",
       "    <tr>\n",
       "      <th>ANO/MÊS</th>\n",
       "      <th></th>\n",
       "      <th></th>\n",
       "      <th></th>\n",
       "      <th></th>\n",
       "      <th></th>\n",
       "      <th></th>\n",
       "    </tr>\n",
       "  </thead>\n",
       "  <tbody>\n",
       "    <tr>\n",
       "      <th>2004/05</th>\n",
       "      <td>0.550</td>\n",
       "      <td>29.131356</td>\n",
       "      <td>2.438</td>\n",
       "      <td>1.888</td>\n",
       "      <td>ACRE</td>\n",
       "      <td>SAO PAULO</td>\n",
       "    </tr>\n",
       "    <tr>\n",
       "      <th>2004/06</th>\n",
       "      <td>0.584</td>\n",
       "      <td>30.543933</td>\n",
       "      <td>2.496</td>\n",
       "      <td>1.912</td>\n",
       "      <td>MATO GROSSO</td>\n",
       "      <td>SAO PAULO</td>\n",
       "    </tr>\n",
       "    <tr>\n",
       "      <th>2004/07</th>\n",
       "      <td>0.609</td>\n",
       "      <td>31.456612</td>\n",
       "      <td>2.545</td>\n",
       "      <td>1.936</td>\n",
       "      <td>ACRE</td>\n",
       "      <td>DISTRITO FEDERAL</td>\n",
       "    </tr>\n",
       "    <tr>\n",
       "      <th>2004/08</th>\n",
       "      <td>0.530</td>\n",
       "      <td>26.108374</td>\n",
       "      <td>2.560</td>\n",
       "      <td>2.030</td>\n",
       "      <td>MATO GROSSO</td>\n",
       "      <td>SAO PAULO</td>\n",
       "    </tr>\n",
       "    <tr>\n",
       "      <th>2004/09</th>\n",
       "      <td>0.539</td>\n",
       "      <td>26.538651</td>\n",
       "      <td>2.570</td>\n",
       "      <td>2.031</td>\n",
       "      <td>ACRE</td>\n",
       "      <td>SAO PAULO</td>\n",
       "    </tr>\n",
       "  </tbody>\n",
       "</table>\n",
       "</div>"
      ],
      "text/plain": [
       "         DIFERENÇA ABSOLUTA  DIFERENÇA PERCENTUAL  MÁXIMO  MÍNIMO  \\\n",
       "ANO/MÊS                                                             \n",
       "2004/05               0.550             29.131356   2.438   1.888   \n",
       "2004/06               0.584             30.543933   2.496   1.912   \n",
       "2004/07               0.609             31.456612   2.545   1.936   \n",
       "2004/08               0.530             26.108374   2.560   2.030   \n",
       "2004/09               0.539             26.538651   2.570   2.031   \n",
       "\n",
       "        MÁXIMO POR ESTADO MÍNIMO POR ESTADO  \n",
       "ANO/MÊS                                      \n",
       "2004/05              ACRE         SAO PAULO  \n",
       "2004/06       MATO GROSSO         SAO PAULO  \n",
       "2004/07              ACRE  DISTRITO FEDERAL  \n",
       "2004/08       MATO GROSSO         SAO PAULO  \n",
       "2004/09              ACRE         SAO PAULO  "
      ]
     },
     "execution_count": 17,
     "metadata": {},
     "output_type": "execute_result"
    }
   ],
   "source": [
    "# pd.set_option('display.max_rows', None)\n",
    "df3['ANO/MÊS'] = df3['DATA FINAL'].apply(lambda x: str(x.year) + '/' + str(x.month).zfill(2))    \n",
    "\n",
    "df_maximo = df3.groupby('ANO/MÊS').max()['PREÇO MÉDIO REVENDA']\n",
    "df_minimo = df3.groupby('ANO/MÊS').min()['PREÇO MÉDIO REVENDA']\n",
    "\n",
    "indice_maximo = df3.groupby('ANO/MÊS')['PREÇO MÉDIO REVENDA'].idxmax()\n",
    "indice_minimo = df3.groupby('ANO/MÊS')['PREÇO MÉDIO REVENDA'].idxmin()\n",
    "\n",
    "df_diferenca = pd.DataFrame()\n",
    "df_diferenca['DIFERENÇA ABSOLUTA'] = df_maximo - df_minimo\n",
    "df_diferenca['DIFERENÇA PERCENTUAL'] = ((df_maximo - df_minimo) / df_minimo) * 100\n",
    "\n",
    "df_diferenca['MÁXIMO'] = df_maximo\n",
    "df_diferenca['MÍNIMO'] = df_minimo\n",
    "\n",
    "df_diferenca['MÁXIMO POR ESTADO'] = df3.loc[indice_maximo, :]['ESTADO'].values\n",
    "df_diferenca['MÍNIMO POR ESTADO'] = df3.loc[indice_minimo, :]['ESTADO'].values\n",
    "\n",
    "df_diferenca.head()"
   ]
  },
  {
   "cell_type": "code",
   "execution_count": 18,
   "id": "50875422",
   "metadata": {},
   "outputs": [
    {
     "data": {
      "text/plain": [
       "MÁXIMO POR ESTADO\n",
       "ACRE              166\n",
       "MATO GROSSO        25\n",
       "RIO DE JANEIRO     11\n",
       "RORAIMA             2\n",
       "Name: count, dtype: int64"
      ]
     },
     "execution_count": 18,
     "metadata": {},
     "output_type": "execute_result"
    }
   ],
   "source": [
    "df_diferenca['MÁXIMO POR ESTADO'].value_counts()"
   ]
  },
  {
   "cell_type": "code",
   "execution_count": 19,
   "id": "00b0e52a",
   "metadata": {},
   "outputs": [
    {
     "data": {
      "text/plain": [
       "MÍNIMO POR ESTADO\n",
       "SAO PAULO              40\n",
       "AMAPA                  38\n",
       "PIAUI                  28\n",
       "PARAIBA                28\n",
       "PARANA                 14\n",
       "AMAZONAS               14\n",
       "DISTRITO FEDERAL       12\n",
       "MARANHAO                9\n",
       "SANTA CATARINA          6\n",
       "PERNAMBUCO              4\n",
       "MATO GROSSO DO SUL      3\n",
       "RIO GRANDE DO NORTE     2\n",
       "GOIAS                   2\n",
       "BAHIA                   2\n",
       "CEARA                   2\n",
       "Name: count, dtype: int64"
      ]
     },
     "execution_count": 19,
     "metadata": {},
     "output_type": "execute_result"
    }
   ],
   "source": [
    "df_diferenca['MÍNIMO POR ESTADO'].value_counts()"
   ]
  }
 ],
 "metadata": {
  "kernelspec": {
   "display_name": "Python 3",
   "language": "python",
   "name": "python3"
  },
  "language_info": {
   "codemirror_mode": {
    "name": "ipython",
    "version": 3
   },
   "file_extension": ".py",
   "mimetype": "text/x-python",
   "name": "python",
   "nbconvert_exporter": "python",
   "pygments_lexer": "ipython3",
   "version": "3.12.1"
  }
 },
 "nbformat": 4,
 "nbformat_minor": 5
}
